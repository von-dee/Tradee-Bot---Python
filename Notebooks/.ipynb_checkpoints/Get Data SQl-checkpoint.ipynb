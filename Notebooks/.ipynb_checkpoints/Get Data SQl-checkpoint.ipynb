{
 "cells": [
  {
   "cell_type": "code",
   "execution_count": 2,
   "metadata": {},
   "outputs": [
    {
     "name": "stdout",
     "output_type": "stream",
     "text": [
      "(1, 'None', 'Buy', '09/09/2021 18:06:07', 'Exit Long', 'Buy', '09/09/2021 18:06:14', '46803.39000000', '', '', '', '', '', '', '', '', 'TRD0000000001', datetime.datetime(2021, 9, 9, 18, 6, 20), '46803.39000000')\n",
      "(2, 'None', 'Sell', '09/09/2021 18:10:05', 'Exit Short', 'Sell', '09/09/2021 18:10:13', '46779.37000000', '', '', '', '', '', '', '', '', 'TRD0000000001', datetime.datetime(2021, 9, 9, 18, 10, 18), '46779.37000000')\n",
      "(3, 'None', 'Buy', '09/09/2021 18:35:06', 'Exit Long', 'Buy', '09/09/2021 18:35:13', '46755.31000000', '', '', '', '', '', '', '', '', 'TRD0000000001', datetime.datetime(2021, 9, 9, 18, 35, 20), '46755.31000000')\n"
     ]
    }
   ],
   "source": [
    "import mysql.connector\n",
    "\n",
    "mydb = mysql.connector.connect(\n",
    "  host=\"localhost\",\n",
    "  user=\"root\",\n",
    "  password=\"admin123\",\n",
    "  database=\"tradebot\"\n",
    ")\n",
    "\n",
    "mycursor = mydb.cursor()\n",
    "\n",
    "mycursor.execute(\"SELECT * FROM tb_trades\")\n",
    "\n",
    "myresult = mycursor.fetchall()\n",
    "\n",
    "for x in myresult:\n",
    "  print(x)"
   ]
  },
  {
   "cell_type": "code",
   "execution_count": 2,
   "metadata": {},
   "outputs": [
    {
     "name": "stdout",
     "output_type": "stream",
     "text": [
      "TRD0000000060\n"
     ]
    }
   ],
   "source": [
    "import mysql.connector\n",
    "from mysql.connector import connect, Error\n",
    "\n",
    "config = {\n",
    "'user': 'root',\n",
    "'password': 'admin123',\n",
    "'host': 'localhost',\n",
    "'port': '3306',\n",
    "'database': 'tradebot',\n",
    "'raise_on_warnings': True,}\n",
    "\n",
    "\n",
    "cnx = mysql.connector.connect(**config)    \n",
    "cursor = cnx.cursor()\n",
    "\n",
    "table = \"tb_trades\"\n",
    "prefix = \"TRD\"\n",
    "base_col = \"TRD_CODE\"\n",
    "no_prec = 10\n",
    "\n",
    "try:\n",
    "\n",
    "    query = \"\"\"\n",
    "       SELECT %s FROM  %s ORDER BY RIGHT (%s,%s) DESC LIMIT 1;\n",
    "    \"\"\"% (\n",
    "            base_col,\n",
    "            table,\n",
    "            base_col,\n",
    "            no_prec,\n",
    "        )\n",
    "    \n",
    "\n",
    "    cursor.execute(query)\n",
    "\n",
    "    results = cursor.fetchone()\n",
    "    \n",
    "    for x in results:\n",
    "        result = x\n",
    "    \n",
    "    result_str = result.strip('TRD')\n",
    "    \n",
    "    rawcount = int(result_str)\n",
    "    rawcount = rawcount + 1\n",
    "    multiplier = no_prec - len(str(rawcount))\n",
    "    multiplier = 0 if multiplier <=0 else multiplier \n",
    "    code = \"0\"*multiplier + str(rawcount)\n",
    "    print(prefix+code)\n",
    "#     print({\n",
    "#         \"data\" : result,\n",
    "#         \"msg\" : \"Successful Logged Activity\",\n",
    "#     })    \n",
    "\n",
    "except Error as e:\n",
    "\n",
    "    print({\n",
    "        \"data\" : \"Error\",\n",
    "        \"msg\" : e\n",
    "    })  \n",
    "       "
   ]
  },
  {
   "cell_type": "code",
   "execution_count": 11,
   "metadata": {},
   "outputs": [
    {
     "name": "stdout",
     "output_type": "stream",
     "text": [
      "0\n"
     ]
    }
   ],
   "source": [
    "try:\n",
    "\n",
    "    query = \"\"\"\n",
    "    SELECT TRD_CUMPROFIT FROM  tb_trades where TRD_STRATEGY_CODE = \"%s\" ORDER BY TRD_ID DESC LIMIT 1;\n",
    "    \"\"\"% (\n",
    "            \"STG0000000001\"\n",
    "        )\n",
    "\n",
    "    cursor.execute(query)\n",
    "\n",
    "    results = cursor.fetchone()\n",
    "\n",
    "    for x in results:\n",
    "        result = x\n",
    "\n",
    "    cum_profit = int(result) if result != \"\" else 0\n",
    "\n",
    "    print(cum_profit)\n",
    "\n",
    "except Error as e:\n",
    "\n",
    "    print(e)\n",
    "    print(\"Error\")"
   ]
  },
  {
   "cell_type": "code",
   "execution_count": null,
   "metadata": {},
   "outputs": [],
   "source": []
  },
  {
   "cell_type": "code",
   "execution_count": null,
   "metadata": {},
   "outputs": [],
   "source": []
  }
 ],
 "metadata": {
  "kernelspec": {
   "display_name": "Python 3",
   "language": "python",
   "name": "python3"
  },
  "language_info": {
   "codemirror_mode": {
    "name": "ipython",
    "version": 3
   },
   "file_extension": ".py",
   "mimetype": "text/x-python",
   "name": "python",
   "nbconvert_exporter": "python",
   "pygments_lexer": "ipython3",
   "version": "3.8.5"
  }
 },
 "nbformat": 4,
 "nbformat_minor": 4
}
