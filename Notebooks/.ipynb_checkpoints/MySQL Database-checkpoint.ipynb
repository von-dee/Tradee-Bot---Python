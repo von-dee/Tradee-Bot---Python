{
 "cells": [
  {
   "cell_type": "markdown",
   "metadata": {},
   "source": [
    "# Establishing a Connection"
   ]
  },
  {
   "cell_type": "code",
   "execution_count": 1,
   "metadata": {},
   "outputs": [
    {
     "name": "stdout",
     "output_type": "stream",
     "text": [
      "<mysql.connector.connection_cext.CMySQLConnection object at 0x7f79e16b3490>\n"
     ]
    }
   ],
   "source": [
    "from mysql.connector import connect, Error\n",
    "\n",
    "try:\n",
    "    with connect(\n",
    "        host=\"localhost\",\n",
    "        user=\"root\",\n",
    "        password=\"admin123\",\n",
    "        database=\"tradebot\",\n",
    "    ) as connection:\n",
    "        print(connection)\n",
    "except Error as e:\n",
    "    print(e)"
   ]
  },
  {
   "cell_type": "markdown",
   "metadata": {},
   "source": [
    "# Creating Tables Using the CREATE TABLE Statement"
   ]
  },
  {
   "cell_type": "code",
   "execution_count": 2,
   "metadata": {},
   "outputs": [
    {
     "name": "stdout",
     "output_type": "stream",
     "text": [
      "MySQL Connection not available.\n",
      "<mysql.connector.connection_cext.CMySQLConnection object at 0x7f79e16b3490>\n"
     ]
    }
   ],
   "source": [
    "try:\n",
    "    \n",
    "    create_movies_table_query = \"\"\"\n",
    "    CREATE TABLE movies(\n",
    "        id INT AUTO_INCREMENT PRIMARY KEY,\n",
    "        title VARCHAR(100),\n",
    "        release_year YEAR(4),\n",
    "        genre VARCHAR(100),\n",
    "        collection_in_mil INT\n",
    "    )\n",
    "    \"\"\"\n",
    "    with connection.cursor() as cursor:\n",
    "        cursor.execute(create_movies_table_query)\n",
    "#         connection.commit()\n",
    "        \n",
    "except Error as e:\n",
    "    \n",
    "    print(e)\n",
    "    \n",
    "print(connection)\n"
   ]
  },
  {
   "cell_type": "code",
   "execution_count": 3,
   "metadata": {},
   "outputs": [],
   "source": [
    "import mysql.connector\n",
    "\n",
    "config = {\n",
    "'user': 'root',\n",
    "'password': 'admin123',\n",
    "'host': 'localhost',\n",
    "'port': '3306',\n",
    "'database': 'tradebot',\n",
    "'raise_on_warnings': True,}\n",
    "\n",
    "\n",
    "cnx = mysql.connector.connect(**config)    \n",
    "cursor = cnx.cursor()"
   ]
  },
  {
   "cell_type": "code",
   "execution_count": 4,
   "metadata": {},
   "outputs": [
    {
     "data": {
      "text/plain": [
       "<mysql.connector.cursor_cext.CMySQLCursor at 0x7f79e0e79190>"
      ]
     },
     "execution_count": 4,
     "metadata": {},
     "output_type": "execute_result"
    }
   ],
   "source": [
    "cursor"
   ]
  },
  {
   "cell_type": "code",
   "execution_count": 5,
   "metadata": {},
   "outputs": [
    {
     "name": "stdout",
     "output_type": "stream",
     "text": [
      "1050 (42S01): Table 'movies' already exists\n"
     ]
    }
   ],
   "source": [
    "try:\n",
    "    create_movies_table_query = \"\"\"\n",
    "    CREATE TABLE movies(\n",
    "        id INT AUTO_INCREMENT PRIMARY KEY,\n",
    "        title VARCHAR(100),\n",
    "        release_year YEAR(4),\n",
    "        genre VARCHAR(100),\n",
    "        collection_in_mil INT\n",
    "    )\n",
    "    \"\"\"\n",
    "\n",
    "    cursor.execute(create_movies_table_query)\n",
    "    \n",
    "except Error as e:\n",
    "\n",
    "    print(e)\n"
   ]
  },
  {
   "cell_type": "markdown",
   "metadata": {},
   "source": [
    "# Inserting Records in Tables"
   ]
  },
  {
   "cell_type": "code",
   "execution_count": 6,
   "metadata": {},
   "outputs": [],
   "source": [
    "try:\n",
    "    insert_movies_query = \"\"\"\n",
    "    INSERT INTO movies (title, release_year, genre, collection_in_mil)\n",
    "    VALUES\n",
    "        (\"Forrest Gump\", 1994, \"Drama\", 330.2),\n",
    "        (\"3 Idiots\", 2009, \"Drama\", 2.4),\n",
    "        (\"Eternal Sunshine of the Spotless Mind\", 2004, \"Drama\", 34.5),\n",
    "        (\"Good Will Hunting\", 1997, \"Drama\", 138.1),\n",
    "        (\"Skyfall\", 2012, \"Action\", 304.6),\n",
    "        (\"Gladiator\", 2000, \"Action\", 188.7),\n",
    "        (\"Black\", 2005, \"Drama\", 3.0),\n",
    "        (\"Titanic\", 1997, \"Romance\", 659.2),\n",
    "        (\"The Shawshank Redemption\", 1994, \"Drama\",28.4),\n",
    "        (\"Udaan\", 2010, \"Drama\", 1.5),\n",
    "        (\"Home Alone\", 1990, \"Comedy\", 286.9),\n",
    "        (\"Casablanca\", 1942, \"Romance\", 1.0),\n",
    "        (\"Avengers: Endgame\", 2019, \"Action\", 858.8),\n",
    "        (\"Night of the Living Dead\", 1968, \"Horror\", 2.5),\n",
    "        (\"The Godfather\", 1972, \"Crime\", 135.6),\n",
    "        (\"Haider\", 2014, \"Action\", 4.2),\n",
    "        (\"Inception\", 2010, \"Adventure\", 293.7),\n",
    "        (\"Evil\", 2003, \"Horror\", 1.3),\n",
    "        (\"Toy Story 4\", 2019, \"Animation\", 434.9),\n",
    "        (\"Air Force One\", 1997, \"Drama\", 138.1),\n",
    "        (\"The Dark Knight\", 2008, \"Action\",535.4),\n",
    "        (\"Bhaag Milkha Bhaag\", 2013, \"Sport\", 4.1),\n",
    "        (\"The Lion King\", 1994, \"Animation\", 423.6),\n",
    "        (\"Pulp Fiction\", 1994, \"Crime\", 108.8),\n",
    "        (\"Kai Po Che\", 2013, \"Sport\", 6.0),\n",
    "        (\"Beasts of No Nation\", 2015, \"War\", 1.4),\n",
    "        (\"Andadhun\", 2018, \"Thriller\", 2.9),\n",
    "        (\"The Silence of the Lambs\", 1991, \"Crime\", 68.2),\n",
    "        (\"Deadpool\", 2016, \"Action\", 363.6),\n",
    "        (\"Drishyam\", 2015, \"Mystery\", 3.0)\n",
    "    \"\"\"\n",
    "\n",
    "    cursor.execute(insert_movies_query)\n",
    "    cnx.commit()\n",
    "\n",
    "except Error as e:\n",
    "\n",
    "    print(e)"
   ]
  },
  {
   "cell_type": "markdown",
   "metadata": {},
   "source": [
    "# Execute many"
   ]
  },
  {
   "cell_type": "code",
   "execution_count": 7,
   "metadata": {},
   "outputs": [],
   "source": [
    "try:\n",
    "    insert_reviewers_query = \"\"\"\n",
    "    INSERT INTO reviewers\n",
    "    (first_name, last_name)\n",
    "    VALUES ( %s, %s )\n",
    "    \"\"\"\n",
    "    reviewers_records = [\n",
    "        (\"Chaitanya\", \"Baweja\"),\n",
    "        (\"Mary\", \"Cooper\"),\n",
    "        (\"John\", \"Wayne\"),\n",
    "        (\"Thomas\", \"Stoneman\"),\n",
    "        (\"Penny\", \"Hofstadter\"),\n",
    "        (\"Mitchell\", \"Marsh\"),\n",
    "        (\"Wyatt\", \"Skaggs\"),\n",
    "        (\"Andre\", \"Veiga\"),\n",
    "        (\"Sheldon\", \"Cooper\"),\n",
    "        (\"Kimbra\", \"Masters\"),\n",
    "        (\"Kat\", \"Dennings\"),\n",
    "        (\"Bruce\", \"Wayne\"),\n",
    "        (\"Domingo\", \"Cortes\"),\n",
    "        (\"Rajesh\", \"Koothrappali\"),\n",
    "        (\"Ben\", \"Glocker\"),\n",
    "        (\"Mahinder\", \"Dhoni\"),\n",
    "        (\"Akbar\", \"Khan\"),\n",
    "        (\"Howard\", \"Wolowitz\"),\n",
    "        (\"Pinkie\", \"Petit\"),\n",
    "        (\"Gurkaran\", \"Singh\"),\n",
    "        (\"Amy\", \"Farah Fowler\"),\n",
    "        (\"Marlon\", \"Crafford\"),\n",
    "    ]\n",
    "\n",
    "    cursor.execute(insert_movies_query)\n",
    "    cnx.commit()\n",
    "\n",
    "except Error as e:\n",
    "\n",
    "    print(e)"
   ]
  },
  {
   "cell_type": "markdown",
   "metadata": {},
   "source": [
    "# Reading Records From the Database"
   ]
  },
  {
   "cell_type": "code",
   "execution_count": 8,
   "metadata": {},
   "outputs": [
    {
     "name": "stdout",
     "output_type": "stream",
     "text": [
      "Enter movie id: 1\n",
      "Enter reviewer id: 1\n",
      "Enter new rating: 1\n"
     ]
    }
   ],
   "source": [
    "try:\n",
    "    \n",
    "    movie_id = input(\"Enter movie id: \")\n",
    "    reviewer_id = input(\"Enter reviewer id: \")\n",
    "    new_rating = input(\"Enter new rating: \")\n",
    "    \n",
    "    update_query = \"\"\"\n",
    "    UPDATE\n",
    "        ratings\n",
    "    SET\n",
    "        rating = \"%s\"\n",
    "    WHERE\n",
    "        movie_id = \"%s\" AND reviewer_id = \"%s\";\n",
    "\n",
    "    SELECT *\n",
    "    FROM ratings\n",
    "    WHERE\n",
    "        movie_id = \"%s\" AND reviewer_id = \"%s\"\n",
    "    \"\"\" % (\n",
    "        new_rating,\n",
    "        movie_id,\n",
    "        reviewer_id,\n",
    "        movie_id,\n",
    "        reviewer_id,\n",
    "    )\n",
    "\n",
    "#     cursor.execute(update_query)\n",
    "#     cnx.commit()\n",
    "\n",
    "except Error as e:\n",
    "\n",
    "    print(e)"
   ]
  },
  {
   "cell_type": "code",
   "execution_count": 41,
   "metadata": {},
   "outputs": [],
   "source": [
    "def generateCode(table, prefix, base_col):\n",
    "        no_prec = 10\n",
    "\n",
    "\n",
    "        try:\n",
    "\n",
    "#             SELECT $base_col FROM  $table ORDER BY RIGHT ($base_col,$no_prec) DESC LIMIT 1\n",
    "            \n",
    "#             query = \"\"\"\n",
    "#             SELECT * FROM  tb_trades;\n",
    "#             \"\"\" \n",
    "#         % (\n",
    "#                 base_col,\n",
    "#                 table,\n",
    "#                 base_col,\n",
    "#                 no_prec\n",
    "#             )\n",
    "\n",
    "            \n",
    "            mydb = mysql.connector.connect(\n",
    "              host=\"localhost\",\n",
    "              user=\"root\",\n",
    "              password=\"admin123\",\n",
    "              database=\"tradebot\"\n",
    "            )\n",
    "\n",
    "            mycursor = mydb.cursor()\n",
    "\n",
    "            mycursor.execute(\"SELECT * FROM tb_trades\")\n",
    "\n",
    "            myresult = mycursor.fetchall()\n",
    "\n",
    "\n",
    "#             print(record)\n",
    "            return {\n",
    "                \"data\" : myresult,\n",
    "                \"msg\" : \"Successful Logged Activity\",\n",
    "            }     \n",
    "\n",
    "        except Error as e:\n",
    "\n",
    "            # print(e)\n",
    "            return {\n",
    "                \"data\" : \"Error\",\n",
    "                \"msg\" : e\n",
    "            }  "
   ]
  },
  {
   "cell_type": "code",
   "execution_count": 42,
   "metadata": {},
   "outputs": [
    {
     "data": {
      "text/plain": [
       "{'data': [(1,\n",
       "   'None',\n",
       "   'Buy',\n",
       "   '09/09/2021 18:06:07',\n",
       "   'Exit Long',\n",
       "   'Buy',\n",
       "   '09/09/2021 18:06:14',\n",
       "   '46803.39000000',\n",
       "   '',\n",
       "   '',\n",
       "   '',\n",
       "   '',\n",
       "   '',\n",
       "   '',\n",
       "   '',\n",
       "   '',\n",
       "   'TRD0000000001',\n",
       "   datetime.datetime(2021, 9, 9, 18, 6, 20),\n",
       "   '46803.39000000'),\n",
       "  (2,\n",
       "   'None',\n",
       "   'Sell',\n",
       "   '09/09/2021 18:10:05',\n",
       "   'Exit Short',\n",
       "   'Sell',\n",
       "   '09/09/2021 18:10:13',\n",
       "   '46779.37000000',\n",
       "   '',\n",
       "   '',\n",
       "   '',\n",
       "   '',\n",
       "   '',\n",
       "   '',\n",
       "   '',\n",
       "   '',\n",
       "   'TRD0000000001',\n",
       "   datetime.datetime(2021, 9, 9, 18, 10, 18),\n",
       "   '46779.37000000'),\n",
       "  (3,\n",
       "   'None',\n",
       "   'Buy',\n",
       "   '09/09/2021 18:35:06',\n",
       "   'Exit Long',\n",
       "   'Buy',\n",
       "   '09/09/2021 18:35:13',\n",
       "   '46755.31000000',\n",
       "   '',\n",
       "   '',\n",
       "   '',\n",
       "   '',\n",
       "   '',\n",
       "   '',\n",
       "   '',\n",
       "   '',\n",
       "   'TRD0000000001',\n",
       "   datetime.datetime(2021, 9, 9, 18, 35, 20),\n",
       "   '46755.31000000')],\n",
       " 'msg': 'Successful Logged Activity'}"
      ]
     },
     "execution_count": 42,
     "metadata": {},
     "output_type": "execute_result"
    }
   ],
   "source": [
    "result = generateCode(\"tb_trades\", \"tb_\", \"TRD_CODE\")\n",
    "result"
   ]
  },
  {
   "cell_type": "code",
   "execution_count": null,
   "metadata": {},
   "outputs": [],
   "source": [
    "\n",
    "\n",
    "try:\n",
    "\n",
    "    update_query = \"\"\"\n",
    "    SELECT $base_col FROM  $table ORDER BY RIGHT ($base_col,$no_prec) DESC LIMIT 1\n",
    "\n",
    "    SELECT \"%s\" FROM  \"%s\" ORDER BY RIGHT (\"%s\",\"%s\") DESC LIMIT 1;\n",
    "\n",
    "    INSERT INTO tb_activities \n",
    "        (ACT_STATUS, ACT_DESCRIPTION, ACT_TITLE, ACT_TYPE, ACT_DATEADDED, ACT_CODE)\n",
    "    VALUES \n",
    "        ( \"%s\",  \"%s\",  \"%s\",  \"%s\",  \"%s\",  \"%s\");\n",
    "    \"\"\" % (\n",
    "        params.get('act_status'),\n",
    "        params.get('act_description'),\n",
    "        params.get('act_title'),\n",
    "        params.get('act_type'),\n",
    "        params.get('act_dateadded'),\n",
    "        params.get('act_code')\n",
    "    )\n",
    "\n",
    "    self.cursor.execute(update_query)\n",
    "    self.cnx.commit()\n",
    "\n",
    "\n",
    "    self.cursor.execute(\"SELECT * FROM tb_trades\")\n",
    "\n",
    "    result = cursor.fetchall()\n",
    "\n",
    "\n",
    "#             print(record)\n",
    "    print({\n",
    "        \"data\" : result,\n",
    "        \"msg\" : \"Successful Logged Activity\",\n",
    "    })    \n",
    "\n",
    " except Error as e:\n",
    "\n",
    "            # print(e)\n",
    "            return {\n",
    "                \"data\" : \"Error\",\n",
    "                \"msg\" : e\n",
    "            }  \n",
    "        "
   ]
  }
 ],
 "metadata": {
  "kernelspec": {
   "display_name": "Python 3",
   "language": "python",
   "name": "python3"
  },
  "language_info": {
   "codemirror_mode": {
    "name": "ipython",
    "version": 3
   },
   "file_extension": ".py",
   "mimetype": "text/x-python",
   "name": "python",
   "nbconvert_exporter": "python",
   "pygments_lexer": "ipython3",
   "version": "3.8.5"
  }
 },
 "nbformat": 4,
 "nbformat_minor": 4
}
